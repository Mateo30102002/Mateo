{
 "cells": [
  {
   "cell_type": "markdown",
   "id": "b8d424d3",
   "metadata": {},
   "source": [
    "Importación librerias"
   ]
  },
  {
   "cell_type": "code",
   "execution_count": 4,
   "id": "405fbbf1",
   "metadata": {},
   "outputs": [],
   "source": [
    "import pandas as pd #dataframe"
   ]
  },
  {
   "cell_type": "code",
   "execution_count": 5,
   "id": "011828f9",
   "metadata": {},
   "outputs": [
    {
     "name": "stdout",
     "output_type": "stream",
     "text": [
      "   DEPARTAMENTO          MUNICIPIO CODIGO DANE                 ARMAS MEDIOS  \\\n",
      "0     ATLÁNTICO  BARRANQUILLA (CT)     8001000  ARMA BLANCA / CORTOPUNZANTE   \n",
      "1        BOYACÁ            DUITAMA    15238000  ARMA BLANCA / CORTOPUNZANTE   \n",
      "2       CAQUETÁ        PUERTO RICO    18592000  ARMA BLANCA / CORTOPUNZANTE   \n",
      "3      CASANARE               MANÍ    85139000  ARMA BLANCA / CORTOPUNZANTE   \n",
      "4  CUNDINAMARCA   BOGOTÁ D.C. (CT)    11001000  ARMA BLANCA / CORTOPUNZANTE   \n",
      "\n",
      "  FECHA HECHO     GENERO GRUPO ETARIO  CANTIDAD  \n",
      "0   1/01/2010  MASCULINO      ADULTOS         1  \n",
      "1   1/01/2010   FEMENINO      ADULTOS         1  \n",
      "2   1/01/2010  MASCULINO      ADULTOS         1  \n",
      "3   1/01/2010   FEMENINO      ADULTOS         1  \n",
      "4   1/01/2010   FEMENINO      ADULTOS         1  \n"
     ]
    },
    {
     "name": "stderr",
     "output_type": "stream",
     "text": [
      "/tmp/ipykernel_2330/732988607.py:1: DtypeWarning: Columns (2) have mixed types. Specify dtype option on import or set low_memory=False.\n",
      "  df = pd.read_csv(\"/workspaces/Mateo/src/vope_cdeo_ProyectoMateo/static/csv/datos_vio.csv\",delimiter=\",\")\n"
     ]
    }
   ],
   "source": [
    "df = pd.read_csv(\"/workspaces/Mateo/src/vope_cdeo_ProyectoMateo/static/csv/datos_vio.csv\",delimiter=\",\")\n",
    "print(df.head())"
   ]
  },
  {
   "cell_type": "markdown",
   "id": "c114e282",
   "metadata": {},
   "source": [
    "1 renombrar columnas"
   ]
  },
  {
   "cell_type": "code",
   "execution_count": 14,
   "id": "b43cd7f7",
   "metadata": {},
   "outputs": [
    {
     "name": "stdout",
     "output_type": "stream",
     "text": [
      "        DEPARTAMENTO          MUNICIPIO CODIGO DANE  \\\n",
      "0          ATLÁNTICO  BARRANQUILLA (CT)     8001000   \n",
      "1             BOYACÁ            DUITAMA    15238000   \n",
      "2            CAQUETÁ        PUERTO RICO    18592000   \n",
      "3           CASANARE               MANÍ    85139000   \n",
      "4       CUNDINAMARCA   BOGOTÁ D.C. (CT)    11001000   \n",
      "...              ...                ...         ...   \n",
      "476965       VICHADA      SANTA ROSALÍA    99624000   \n",
      "476966       VICHADA      SANTA ROSALÍA    99624000   \n",
      "476967       VICHADA      SANTA ROSALÍA    99624000   \n",
      "476968  CUNDINAMARCA              TAUSA    25793000   \n",
      "476969  CUNDINAMARCA          ZIPAQUIRÁ    25899000   \n",
      "\n",
      "                       ARMAS MEDIOS FECHA HECHO       SEXO GRUPO ETARIO  \\\n",
      "0       ARMA BLANCA / CORTOPUNZANTE   1/01/2010  MASCULINO      ADULTOS   \n",
      "1       ARMA BLANCA / CORTOPUNZANTE   1/01/2010   FEMENINO      ADULTOS   \n",
      "2       ARMA BLANCA / CORTOPUNZANTE   1/01/2010  MASCULINO      ADULTOS   \n",
      "3       ARMA BLANCA / CORTOPUNZANTE   1/01/2010   FEMENINO      ADULTOS   \n",
      "4       ARMA BLANCA / CORTOPUNZANTE   1/01/2010   FEMENINO      ADULTOS   \n",
      "...                             ...         ...        ...          ...   \n",
      "476965          SIN EMPLEO DE ARMAS       44250   FEMENINO      MENORES   \n",
      "476966          SIN EMPLEO DE ARMAS       44262   FEMENINO      ADULTOS   \n",
      "476967          SIN EMPLEO DE ARMAS       44300   FEMENINO      ADULTOS   \n",
      "476968                          NaN       44294   FEMENINO      ADULTOS   \n",
      "476969                          NaN       44245   FEMENINO      ADULTOS   \n",
      "\n",
      "        CANTIDAD  \n",
      "0              1  \n",
      "1              1  \n",
      "2              1  \n",
      "3              1  \n",
      "4              1  \n",
      "...          ...  \n",
      "476965         1  \n",
      "476966         1  \n",
      "476967         1  \n",
      "476968         1  \n",
      "476969         1  \n",
      "\n",
      "[476970 rows x 8 columns]\n"
     ]
    }
   ],
   "source": [
    "df=df.rename(columns={'GENERO':'SEXO'})\n",
    "print(df)\n"
   ]
  },
  {
   "cell_type": "code",
   "execution_count": 19,
   "id": "5c2d2534",
   "metadata": {},
   "outputs": [
    {
     "name": "stdout",
     "output_type": "stream",
     "text": [
      "             ESTADOS            PUEBLOS      DANE  \\\n",
      "0          ATLÁNTICO  BARRANQUILLA (CT)   8001000   \n",
      "1             BOYACÁ            DUITAMA  15238000   \n",
      "2            CAQUETÁ        PUERTO RICO  18592000   \n",
      "3           CASANARE               MANÍ  85139000   \n",
      "4       CUNDINAMARCA   BOGOTÁ D.C. (CT)  11001000   \n",
      "...              ...                ...       ...   \n",
      "476965       VICHADA      SANTA ROSALÍA  99624000   \n",
      "476966       VICHADA      SANTA ROSALÍA  99624000   \n",
      "476967       VICHADA      SANTA ROSALÍA  99624000   \n",
      "476968  CUNDINAMARCA              TAUSA  25793000   \n",
      "476969  CUNDINAMARCA          ZIPAQUIRÁ  25899000   \n",
      "\n",
      "                       ARMAS MEDIOS FECHA HECHO       SEXO GRUPO ETARIO  \\\n",
      "0       ARMA BLANCA / CORTOPUNZANTE   1/01/2010  MASCULINO      ADULTOS   \n",
      "1       ARMA BLANCA / CORTOPUNZANTE   1/01/2010   FEMENINO      ADULTOS   \n",
      "2       ARMA BLANCA / CORTOPUNZANTE   1/01/2010  MASCULINO      ADULTOS   \n",
      "3       ARMA BLANCA / CORTOPUNZANTE   1/01/2010   FEMENINO      ADULTOS   \n",
      "4       ARMA BLANCA / CORTOPUNZANTE   1/01/2010   FEMENINO      ADULTOS   \n",
      "...                             ...         ...        ...          ...   \n",
      "476965          SIN EMPLEO DE ARMAS       44250   FEMENINO      MENORES   \n",
      "476966          SIN EMPLEO DE ARMAS       44262   FEMENINO      ADULTOS   \n",
      "476967          SIN EMPLEO DE ARMAS       44300   FEMENINO      ADULTOS   \n",
      "476968                          NaN       44294   FEMENINO      ADULTOS   \n",
      "476969                          NaN       44245   FEMENINO      ADULTOS   \n",
      "\n",
      "        CANTIDAD  \n",
      "0              1  \n",
      "1              1  \n",
      "2              1  \n",
      "3              1  \n",
      "4              1  \n",
      "...          ...  \n",
      "476965         1  \n",
      "476966         1  \n",
      "476967         1  \n",
      "476968         1  \n",
      "476969         1  \n",
      "\n",
      "[476970 rows x 8 columns]\n"
     ]
    }
   ],
   "source": [
    "##varias columnas\n",
    "df_rename = df.rename(columns={\n",
    "    'DEPARTAMENTO':'ESTADOS',\n",
    "    'MUNICIPIO':'PUEBLOS',\n",
    "    'CODIGO DANE':'DANE'\n",
    "})\n",
    "print(df_rename)"
   ]
  },
  {
   "cell_type": "markdown",
   "id": "28bb27da",
   "metadata": {},
   "source": [
    "\n",
    "2 mostrar los datos de una sola columna"
   ]
  },
  {
   "cell_type": "code",
   "execution_count": 21,
   "id": "c8ce79dc",
   "metadata": {},
   "outputs": [
    {
     "data": {
      "text/plain": [
       "0            ATLÁNTICO\n",
       "1               BOYACÁ\n",
       "2              CAQUETÁ\n",
       "3             CASANARE\n",
       "4         CUNDINAMARCA\n",
       "              ...     \n",
       "476965         VICHADA\n",
       "476966         VICHADA\n",
       "476967         VICHADA\n",
       "476968    CUNDINAMARCA\n",
       "476969    CUNDINAMARCA\n",
       "Name: DEPARTAMENTO, Length: 476970, dtype: object"
      ]
     },
     "execution_count": 21,
     "metadata": {},
     "output_type": "execute_result"
    }
   ],
   "source": [
    "df.DEPARTAMENTO"
   ]
  },
  {
   "cell_type": "code",
   "execution_count": 26,
   "id": "052059cc",
   "metadata": {},
   "outputs": [
    {
     "data": {
      "text/plain": [
       "array(['ATLÁNTICO', 'BOYACÁ', 'CAQUETÁ', 'CASANARE', 'CUNDINAMARCA',\n",
       "       'SUCRE', 'VALLE', 'HUILA', 'ANTIOQUIA', 'ARAUCA', 'BOLÍVAR',\n",
       "       'CALDAS', 'CAUCA', 'CESAR', 'CHOCÓ', 'CÓRDOBA', 'MAGDALENA',\n",
       "       'META', 'NARIÑO', 'NORTE DE SANTANDER', 'PUTUMAYO', 'RISARALDA',\n",
       "       'SANTANDER', 'TOLIMA', 'VAUPÉS', 'GUAVIARE', 'GUAJIRA', 'QUINDÍO',\n",
       "       'AMAZONAS', 'VICHADA', 'GUAINÍA', 'SAN ANDRÉS', 'NO REPORTA'],\n",
       "      dtype=object)"
      ]
     },
     "execution_count": 26,
     "metadata": {},
     "output_type": "execute_result"
    }
   ],
   "source": [
    "##Datos unicos\n",
    "df['DEPARTAMENTO'].unique()"
   ]
  },
  {
   "cell_type": "markdown",
   "id": "7f36fa04",
   "metadata": {},
   "source": [
    "3 agrupar los datos"
   ]
  },
  {
   "cell_type": "code",
   "execution_count": 37,
   "id": "96eef9a9",
   "metadata": {},
   "outputs": [
    {
     "data": {
      "text/plain": [
       "DEPARTAMENTO\n",
       "AMAZONAS               1408\n",
       "ANTIOQUIA             57288\n",
       "ARAUCA                 3852\n",
       "ATLÁNTICO             17516\n",
       "BOLÍVAR               15954\n",
       "BOYACÁ                26920\n",
       "CALDAS                 8742\n",
       "CAQUETÁ                4857\n",
       "CASANARE               6418\n",
       "CAUCA                 13947\n",
       "CESAR                  7109\n",
       "CHOCÓ                  2071\n",
       "CUNDINAMARCA          88100\n",
       "CÓRDOBA               10800\n",
       "GUAINÍA                 518\n",
       "GUAJIRA                4434\n",
       "GUAVIARE                886\n",
       "HUILA                 16547\n",
       "MAGDALENA              9691\n",
       "META                  16223\n",
       "NARIÑO                14373\n",
       "NO REPORTA                6\n",
       "NORTE DE SANTANDER    14919\n",
       "PUTUMAYO               3104\n",
       "QUINDÍO                4800\n",
       "RISARALDA             14381\n",
       "SAN ANDRÉS             1155\n",
       "SANTANDER             38493\n",
       "SUCRE                  9745\n",
       "TOLIMA                17007\n",
       "VALLE                 44909\n",
       "VAUPÉS                  373\n",
       "VICHADA                 424\n",
       "dtype: int64"
      ]
     },
     "execution_count": 37,
     "metadata": {},
     "output_type": "execute_result"
    }
   ],
   "source": [
    "df.groupby(by=\"DEPARTAMENTO\").size()\n"
   ]
  },
  {
   "cell_type": "code",
   "execution_count": 39,
   "id": "2e2ef55b",
   "metadata": {},
   "outputs": [
    {
     "data": {
      "text/plain": [
       "DEPARTAMENTO  MUNICIPIO          \n",
       "AMAZONAS      LETICIA (CT)           1307\n",
       "              PUERTO NARIÑO           101\n",
       "ANTIOQUIA     ABEJORRAL                91\n",
       "              ABRIAQUÍ                  4\n",
       "              ALEJANDRÍA               53\n",
       "                                     ... \n",
       "VAUPÉS        TARAIRA                  23\n",
       "VICHADA       CUMARIBO                 30\n",
       "              LA PRIMAVERA             50\n",
       "              PUERTO CARREÑO (CT)     318\n",
       "              SANTA ROSALÍA            26\n",
       "Name: ARMAS MEDIOS, Length: 1104, dtype: int64"
      ]
     },
     "execution_count": 39,
     "metadata": {},
     "output_type": "execute_result"
    }
   ],
   "source": [
    "##Agrupar por dos columnas y contar armas medios\n",
    "df.groupby(['DEPARTAMENTO', 'MUNICIPIO'])['ARMAS MEDIOS'].count()"
   ]
  },
  {
   "cell_type": "markdown",
   "id": "f43a6b01",
   "metadata": {},
   "source": [
    "4 buscar un dato en una celda\n"
   ]
  },
  {
   "cell_type": "code",
   "execution_count": 43,
   "id": "da0bf8df",
   "metadata": {},
   "outputs": [
    {
     "data": {
      "text/html": [
       "<div>\n",
       "<style scoped>\n",
       "    .dataframe tbody tr th:only-of-type {\n",
       "        vertical-align: middle;\n",
       "    }\n",
       "\n",
       "    .dataframe tbody tr th {\n",
       "        vertical-align: top;\n",
       "    }\n",
       "\n",
       "    .dataframe thead th {\n",
       "        text-align: right;\n",
       "    }\n",
       "</style>\n",
       "<table border=\"1\" class=\"dataframe\">\n",
       "  <thead>\n",
       "    <tr style=\"text-align: right;\">\n",
       "      <th></th>\n",
       "      <th>DEPARTAMENTO</th>\n",
       "      <th>MUNICIPIO</th>\n",
       "      <th>CODIGO DANE</th>\n",
       "      <th>ARMAS MEDIOS</th>\n",
       "      <th>FECHA HECHO</th>\n",
       "      <th>SEXO</th>\n",
       "      <th>GRUPO ETARIO</th>\n",
       "      <th>CANTIDAD</th>\n",
       "    </tr>\n",
       "  </thead>\n",
       "  <tbody>\n",
       "    <tr>\n",
       "      <th>196631</th>\n",
       "      <td>CAUCA</td>\n",
       "      <td>SANTANDER DE QUILICHAO</td>\n",
       "      <td>19698000</td>\n",
       "      <td>CONTUNDENTES</td>\n",
       "      <td>2/12/2016</td>\n",
       "      <td>FEMENINO</td>\n",
       "      <td>ADULTOS</td>\n",
       "      <td>1</td>\n",
       "    </tr>\n",
       "    <tr>\n",
       "      <th>196732</th>\n",
       "      <td>CAUCA</td>\n",
       "      <td>SANTANDER DE QUILICHAO</td>\n",
       "      <td>19698000</td>\n",
       "      <td>CONTUNDENTES</td>\n",
       "      <td>3/12/2016</td>\n",
       "      <td>FEMENINO</td>\n",
       "      <td>ADOLESCENTES</td>\n",
       "      <td>1</td>\n",
       "    </tr>\n",
       "    <tr>\n",
       "      <th>196733</th>\n",
       "      <td>CAUCA</td>\n",
       "      <td>SANTANDER DE QUILICHAO</td>\n",
       "      <td>19698000</td>\n",
       "      <td>CONTUNDENTES</td>\n",
       "      <td>3/12/2016</td>\n",
       "      <td>MASCULINO</td>\n",
       "      <td>ADULTOS</td>\n",
       "      <td>1</td>\n",
       "    </tr>\n",
       "    <tr>\n",
       "      <th>196841</th>\n",
       "      <td>CAUCA</td>\n",
       "      <td>SANTANDER DE QUILICHAO</td>\n",
       "      <td>19698000</td>\n",
       "      <td>CONTUNDENTES</td>\n",
       "      <td>4/12/2016</td>\n",
       "      <td>FEMENINO</td>\n",
       "      <td>ADULTOS</td>\n",
       "      <td>1</td>\n",
       "    </tr>\n",
       "    <tr>\n",
       "      <th>196973</th>\n",
       "      <td>CAUCA</td>\n",
       "      <td>SANTANDER DE QUILICHAO</td>\n",
       "      <td>19698000</td>\n",
       "      <td>CONTUNDENTES</td>\n",
       "      <td>5/12/2016</td>\n",
       "      <td>FEMENINO</td>\n",
       "      <td>ADULTOS</td>\n",
       "      <td>1</td>\n",
       "    </tr>\n",
       "    <tr>\n",
       "      <th>...</th>\n",
       "      <td>...</td>\n",
       "      <td>...</td>\n",
       "      <td>...</td>\n",
       "      <td>...</td>\n",
       "      <td>...</td>\n",
       "      <td>...</td>\n",
       "      <td>...</td>\n",
       "      <td>...</td>\n",
       "    </tr>\n",
       "    <tr>\n",
       "      <th>390337</th>\n",
       "      <td>CAUCA</td>\n",
       "      <td>SANTANDER DE QUILICHAO</td>\n",
       "      <td>19698000</td>\n",
       "      <td>CONTUNDENTES</td>\n",
       "      <td>28/04/2020</td>\n",
       "      <td>FEMENINO</td>\n",
       "      <td>ADULTOS</td>\n",
       "      <td>1</td>\n",
       "    </tr>\n",
       "    <tr>\n",
       "      <th>391172</th>\n",
       "      <td>CAUCA</td>\n",
       "      <td>SANTANDER DE QUILICHAO</td>\n",
       "      <td>19698000</td>\n",
       "      <td>CONTUNDENTES</td>\n",
       "      <td>1/05/2020</td>\n",
       "      <td>FEMENINO</td>\n",
       "      <td>ADULTOS</td>\n",
       "      <td>1</td>\n",
       "    </tr>\n",
       "    <tr>\n",
       "      <th>391747</th>\n",
       "      <td>CAUCA</td>\n",
       "      <td>SANTANDER DE QUILICHAO</td>\n",
       "      <td>19698000</td>\n",
       "      <td>CONTUNDENTES</td>\n",
       "      <td>3/05/2020</td>\n",
       "      <td>MASCULINO</td>\n",
       "      <td>ADULTOS</td>\n",
       "      <td>1</td>\n",
       "    </tr>\n",
       "    <tr>\n",
       "      <th>392024</th>\n",
       "      <td>CAUCA</td>\n",
       "      <td>SANTANDER DE QUILICHAO</td>\n",
       "      <td>19698000</td>\n",
       "      <td>CONTUNDENTES</td>\n",
       "      <td>4/05/2020</td>\n",
       "      <td>FEMENINO</td>\n",
       "      <td>ADULTOS</td>\n",
       "      <td>1</td>\n",
       "    </tr>\n",
       "    <tr>\n",
       "      <th>392328</th>\n",
       "      <td>CAUCA</td>\n",
       "      <td>SANTANDER DE QUILICHAO</td>\n",
       "      <td>19698000</td>\n",
       "      <td>SIN EMPLEO DE ARMAS</td>\n",
       "      <td>5/05/2020</td>\n",
       "      <td>FEMENINO</td>\n",
       "      <td>ADULTOS</td>\n",
       "      <td>1</td>\n",
       "    </tr>\n",
       "  </tbody>\n",
       "</table>\n",
       "<p>740 rows × 8 columns</p>\n",
       "</div>"
      ],
      "text/plain": [
       "       DEPARTAMENTO               MUNICIPIO CODIGO DANE         ARMAS MEDIOS  \\\n",
       "196631        CAUCA  SANTANDER DE QUILICHAO    19698000         CONTUNDENTES   \n",
       "196732        CAUCA  SANTANDER DE QUILICHAO    19698000         CONTUNDENTES   \n",
       "196733        CAUCA  SANTANDER DE QUILICHAO    19698000         CONTUNDENTES   \n",
       "196841        CAUCA  SANTANDER DE QUILICHAO    19698000         CONTUNDENTES   \n",
       "196973        CAUCA  SANTANDER DE QUILICHAO    19698000         CONTUNDENTES   \n",
       "...             ...                     ...         ...                  ...   \n",
       "390337        CAUCA  SANTANDER DE QUILICHAO    19698000         CONTUNDENTES   \n",
       "391172        CAUCA  SANTANDER DE QUILICHAO    19698000         CONTUNDENTES   \n",
       "391747        CAUCA  SANTANDER DE QUILICHAO    19698000         CONTUNDENTES   \n",
       "392024        CAUCA  SANTANDER DE QUILICHAO    19698000         CONTUNDENTES   \n",
       "392328        CAUCA  SANTANDER DE QUILICHAO    19698000  SIN EMPLEO DE ARMAS   \n",
       "\n",
       "       FECHA HECHO       SEXO  GRUPO ETARIO  CANTIDAD  \n",
       "196631   2/12/2016   FEMENINO       ADULTOS         1  \n",
       "196732   3/12/2016   FEMENINO  ADOLESCENTES         1  \n",
       "196733   3/12/2016  MASCULINO       ADULTOS         1  \n",
       "196841   4/12/2016   FEMENINO       ADULTOS         1  \n",
       "196973   5/12/2016   FEMENINO       ADULTOS         1  \n",
       "...            ...        ...           ...       ...  \n",
       "390337  28/04/2020   FEMENINO       ADULTOS         1  \n",
       "391172   1/05/2020   FEMENINO       ADULTOS         1  \n",
       "391747   3/05/2020  MASCULINO       ADULTOS         1  \n",
       "392024   4/05/2020   FEMENINO       ADULTOS         1  \n",
       "392328   5/05/2020   FEMENINO       ADULTOS         1  \n",
       "\n",
       "[740 rows x 8 columns]"
      ]
     },
     "execution_count": 43,
     "metadata": {},
     "output_type": "execute_result"
    }
   ],
   "source": [
    "df[df['CODIGO DANE'] == '19698000']"
   ]
  },
  {
   "cell_type": "code",
   "execution_count": null,
   "id": "ba00e5e1",
   "metadata": {},
   "outputs": [
    {
     "data": {
      "text/html": [
       "<div>\n",
       "<style scoped>\n",
       "    .dataframe tbody tr th:only-of-type {\n",
       "        vertical-align: middle;\n",
       "    }\n",
       "\n",
       "    .dataframe tbody tr th {\n",
       "        vertical-align: top;\n",
       "    }\n",
       "\n",
       "    .dataframe thead th {\n",
       "        text-align: right;\n",
       "    }\n",
       "</style>\n",
       "<table border=\"1\" class=\"dataframe\">\n",
       "  <thead>\n",
       "    <tr style=\"text-align: right;\">\n",
       "      <th></th>\n",
       "      <th>DEPARTAMENTO</th>\n",
       "      <th>MUNICIPIO</th>\n",
       "      <th>CODIGO DANE</th>\n",
       "      <th>ARMAS MEDIOS</th>\n",
       "      <th>FECHA HECHO</th>\n",
       "      <th>SEXO</th>\n",
       "      <th>GRUPO ETARIO</th>\n",
       "      <th>CANTIDAD</th>\n",
       "    </tr>\n",
       "  </thead>\n",
       "  <tbody>\n",
       "    <tr>\n",
       "      <th>33</th>\n",
       "      <td>CAUCA</td>\n",
       "      <td>SANTANDER DE QUILICHAO</td>\n",
       "      <td>19698000</td>\n",
       "      <td>CONTUNDENTES</td>\n",
       "      <td>1/01/2010</td>\n",
       "      <td>FEMENINO</td>\n",
       "      <td>ADULTOS</td>\n",
       "      <td>1</td>\n",
       "    </tr>\n",
       "    <tr>\n",
       "      <th>8779</th>\n",
       "      <td>CAUCA</td>\n",
       "      <td>SANTANDER DE QUILICHAO</td>\n",
       "      <td>19698000</td>\n",
       "      <td>CONTUNDENTES</td>\n",
       "      <td>13/07/2010</td>\n",
       "      <td>FEMENINO</td>\n",
       "      <td>ADULTOS</td>\n",
       "      <td>1</td>\n",
       "    </tr>\n",
       "    <tr>\n",
       "      <th>8812</th>\n",
       "      <td>CAUCA</td>\n",
       "      <td>SANTANDER DE QUILICHAO</td>\n",
       "      <td>19698000</td>\n",
       "      <td>CONTUNDENTES</td>\n",
       "      <td>14/07/2010</td>\n",
       "      <td>FEMENINO</td>\n",
       "      <td>ADULTOS</td>\n",
       "      <td>1</td>\n",
       "    </tr>\n",
       "    <tr>\n",
       "      <th>8881</th>\n",
       "      <td>CAUCA</td>\n",
       "      <td>SANTANDER DE QUILICHAO</td>\n",
       "      <td>19698000</td>\n",
       "      <td>CONTUNDENTES</td>\n",
       "      <td>16/07/2010</td>\n",
       "      <td>MASCULINO</td>\n",
       "      <td>ADULTOS</td>\n",
       "      <td>1</td>\n",
       "    </tr>\n",
       "    <tr>\n",
       "      <th>12618</th>\n",
       "      <td>CAUCA</td>\n",
       "      <td>SANTANDER DE QUILICHAO</td>\n",
       "      <td>19698000</td>\n",
       "      <td>CONTUNDENTES</td>\n",
       "      <td>14/10/2010</td>\n",
       "      <td>MASCULINO</td>\n",
       "      <td>ADULTOS</td>\n",
       "      <td>1</td>\n",
       "    </tr>\n",
       "    <tr>\n",
       "      <th>...</th>\n",
       "      <td>...</td>\n",
       "      <td>...</td>\n",
       "      <td>...</td>\n",
       "      <td>...</td>\n",
       "      <td>...</td>\n",
       "      <td>...</td>\n",
       "      <td>...</td>\n",
       "      <td>...</td>\n",
       "    </tr>\n",
       "    <tr>\n",
       "      <th>468329</th>\n",
       "      <td>CAUCA</td>\n",
       "      <td>SANTANDER DE QUILICHAO</td>\n",
       "      <td>19698000</td>\n",
       "      <td>SIN EMPLEO DE ARMAS</td>\n",
       "      <td>4/04/2021</td>\n",
       "      <td>MASCULINO</td>\n",
       "      <td>MENORES</td>\n",
       "      <td>1</td>\n",
       "    </tr>\n",
       "    <tr>\n",
       "      <th>468330</th>\n",
       "      <td>CAUCA</td>\n",
       "      <td>SANTANDER DE QUILICHAO</td>\n",
       "      <td>19698000</td>\n",
       "      <td>SIN EMPLEO DE ARMAS</td>\n",
       "      <td>13/04/2021</td>\n",
       "      <td>FEMENINO</td>\n",
       "      <td>ADULTOS</td>\n",
       "      <td>1</td>\n",
       "    </tr>\n",
       "    <tr>\n",
       "      <th>468331</th>\n",
       "      <td>CAUCA</td>\n",
       "      <td>SANTANDER DE QUILICHAO</td>\n",
       "      <td>19698000</td>\n",
       "      <td>SIN EMPLEO DE ARMAS</td>\n",
       "      <td>15/04/2021</td>\n",
       "      <td>FEMENINO</td>\n",
       "      <td>ADULTOS</td>\n",
       "      <td>1</td>\n",
       "    </tr>\n",
       "    <tr>\n",
       "      <th>468332</th>\n",
       "      <td>CAUCA</td>\n",
       "      <td>SANTANDER DE QUILICHAO</td>\n",
       "      <td>19698000</td>\n",
       "      <td>SIN EMPLEO DE ARMAS</td>\n",
       "      <td>22/04/2021</td>\n",
       "      <td>FEMENINO</td>\n",
       "      <td>ADULTOS</td>\n",
       "      <td>1</td>\n",
       "    </tr>\n",
       "    <tr>\n",
       "      <th>468333</th>\n",
       "      <td>CAUCA</td>\n",
       "      <td>SANTANDER DE QUILICHAO</td>\n",
       "      <td>19698000</td>\n",
       "      <td>SIN EMPLEO DE ARMAS</td>\n",
       "      <td>31/05/2021</td>\n",
       "      <td>FEMENINO</td>\n",
       "      <td>ADULTOS</td>\n",
       "      <td>1</td>\n",
       "    </tr>\n",
       "  </tbody>\n",
       "</table>\n",
       "<p>929 rows × 8 columns</p>\n",
       "</div>"
      ],
      "text/plain": [
       "       DEPARTAMENTO               MUNICIPIO CODIGO DANE         ARMAS MEDIOS  \\\n",
       "33            CAUCA  SANTANDER DE QUILICHAO    19698000         CONTUNDENTES   \n",
       "8779          CAUCA  SANTANDER DE QUILICHAO    19698000         CONTUNDENTES   \n",
       "8812          CAUCA  SANTANDER DE QUILICHAO    19698000         CONTUNDENTES   \n",
       "8881          CAUCA  SANTANDER DE QUILICHAO    19698000         CONTUNDENTES   \n",
       "12618         CAUCA  SANTANDER DE QUILICHAO    19698000         CONTUNDENTES   \n",
       "...             ...                     ...         ...                  ...   \n",
       "468329        CAUCA  SANTANDER DE QUILICHAO    19698000  SIN EMPLEO DE ARMAS   \n",
       "468330        CAUCA  SANTANDER DE QUILICHAO    19698000  SIN EMPLEO DE ARMAS   \n",
       "468331        CAUCA  SANTANDER DE QUILICHAO    19698000  SIN EMPLEO DE ARMAS   \n",
       "468332        CAUCA  SANTANDER DE QUILICHAO    19698000  SIN EMPLEO DE ARMAS   \n",
       "468333        CAUCA  SANTANDER DE QUILICHAO    19698000  SIN EMPLEO DE ARMAS   \n",
       "\n",
       "       FECHA HECHO       SEXO GRUPO ETARIO  CANTIDAD  \n",
       "33       1/01/2010   FEMENINO      ADULTOS         1  \n",
       "8779    13/07/2010   FEMENINO      ADULTOS         1  \n",
       "8812    14/07/2010   FEMENINO      ADULTOS         1  \n",
       "8881    16/07/2010  MASCULINO      ADULTOS         1  \n",
       "12618   14/10/2010  MASCULINO      ADULTOS         1  \n",
       "...            ...        ...          ...       ...  \n",
       "468329   4/04/2021  MASCULINO      MENORES         1  \n",
       "468330  13/04/2021   FEMENINO      ADULTOS         1  \n",
       "468331  15/04/2021   FEMENINO      ADULTOS         1  \n",
       "468332  22/04/2021   FEMENINO      ADULTOS         1  \n",
       "468333  31/05/2021   FEMENINO      ADULTOS         1  \n",
       "\n",
       "[929 rows x 8 columns]"
      ]
     },
     "execution_count": 44,
     "metadata": {},
     "output_type": "execute_result"
    }
   ],
   "source": [
    "##Buscar sin mencionar columna\n",
    "df[df.isin([19698000]).any(axis=1)]"
   ]
  },
  {
   "cell_type": "markdown",
   "id": "8abca3b6",
   "metadata": {},
   "source": [
    "5 poner de una celda la primera en mayuscula"
   ]
  },
  {
   "cell_type": "code",
   "execution_count": 47,
   "id": "40b9a7c8",
   "metadata": {},
   "outputs": [
    {
     "name": "stdout",
     "output_type": "stream",
     "text": [
      "        DEPARTAMENTO          MUNICIPIO CODIGO DANE  \\\n",
      "0          ATLÁNTICO  Barranquilla (ct)     8001000   \n",
      "1             BOYACÁ            Duitama    15238000   \n",
      "2            CAQUETÁ        Puerto rico    18592000   \n",
      "3           CASANARE               Maní    85139000   \n",
      "4       CUNDINAMARCA   Bogotá d.c. (ct)    11001000   \n",
      "...              ...                ...         ...   \n",
      "476965       VICHADA      Santa rosalía    99624000   \n",
      "476966       VICHADA      Santa rosalía    99624000   \n",
      "476967       VICHADA      Santa rosalía    99624000   \n",
      "476968  CUNDINAMARCA              Tausa    25793000   \n",
      "476969  CUNDINAMARCA          Zipaquirá    25899000   \n",
      "\n",
      "                       ARMAS MEDIOS FECHA HECHO       SEXO GRUPO ETARIO  \\\n",
      "0       ARMA BLANCA / CORTOPUNZANTE   1/01/2010  MASCULINO      ADULTOS   \n",
      "1       ARMA BLANCA / CORTOPUNZANTE   1/01/2010   FEMENINO      ADULTOS   \n",
      "2       ARMA BLANCA / CORTOPUNZANTE   1/01/2010  MASCULINO      ADULTOS   \n",
      "3       ARMA BLANCA / CORTOPUNZANTE   1/01/2010   FEMENINO      ADULTOS   \n",
      "4       ARMA BLANCA / CORTOPUNZANTE   1/01/2010   FEMENINO      ADULTOS   \n",
      "...                             ...         ...        ...          ...   \n",
      "476965          SIN EMPLEO DE ARMAS       44250   FEMENINO      MENORES   \n",
      "476966          SIN EMPLEO DE ARMAS       44262   FEMENINO      ADULTOS   \n",
      "476967          SIN EMPLEO DE ARMAS       44300   FEMENINO      ADULTOS   \n",
      "476968                          NaN       44294   FEMENINO      ADULTOS   \n",
      "476969                          NaN       44245   FEMENINO      ADULTOS   \n",
      "\n",
      "        CANTIDAD  \n",
      "0              1  \n",
      "1              1  \n",
      "2              1  \n",
      "3              1  \n",
      "4              1  \n",
      "...          ...  \n",
      "476965         1  \n",
      "476966         1  \n",
      "476967         1  \n",
      "476968         1  \n",
      "476969         1  \n",
      "\n",
      "[476970 rows x 8 columns]\n"
     ]
    }
   ],
   "source": [
    "df['MUNICIPIO'] = df['MUNICIPIO'].str.capitalize()\n",
    "print(df)\n"
   ]
  },
  {
   "cell_type": "markdown",
   "id": "79e07d27",
   "metadata": {},
   "source": [
    "6 agregar una columna con la fecha actual"
   ]
  },
  {
   "cell_type": "code",
   "execution_count": 54,
   "id": "99e82e65",
   "metadata": {},
   "outputs": [
    {
     "name": "stdout",
     "output_type": "stream",
     "text": [
      "   DEPARTAMENTO          MUNICIPIO CODIGO DANE                 ARMAS MEDIOS  \\\n",
      "0     ATLÁNTICO  Barranquilla (ct)     8001000  ARMA BLANCA / CORTOPUNZANTE   \n",
      "1        BOYACÁ            Duitama    15238000  ARMA BLANCA / CORTOPUNZANTE   \n",
      "2       CAQUETÁ        Puerto rico    18592000  ARMA BLANCA / CORTOPUNZANTE   \n",
      "3      CASANARE               Maní    85139000  ARMA BLANCA / CORTOPUNZANTE   \n",
      "4  CUNDINAMARCA   Bogotá d.c. (ct)    11001000  ARMA BLANCA / CORTOPUNZANTE   \n",
      "\n",
      "  FECHA HECHO       SEXO GRUPO ETARIO  CANTIDAD FECHA_ACTUAL  \n",
      "0   1/01/2010  MASCULINO      ADULTOS         1   2025-06-02  \n",
      "1   1/01/2010   FEMENINO      ADULTOS         1   2025-06-02  \n",
      "2   1/01/2010  MASCULINO      ADULTOS         1   2025-06-02  \n",
      "3   1/01/2010   FEMENINO      ADULTOS         1   2025-06-02  \n",
      "4   1/01/2010   FEMENINO      ADULTOS         1   2025-06-02  \n"
     ]
    }
   ],
   "source": [
    "import datetime\n",
    "\n",
    "df['FECHA_ACTUAL'] = datetime.date.today()\n",
    "print(df.head())"
   ]
  },
  {
   "cell_type": "markdown",
   "id": "f76dd9f9",
   "metadata": {},
   "source": [
    "7 dividir la columna anterior en 4 columnas [year,month,day,year_month]\n",
    " "
   ]
  },
  {
   "cell_type": "code",
   "execution_count": 60,
   "id": "1f39395f",
   "metadata": {},
   "outputs": [
    {
     "name": "stdout",
     "output_type": "stream",
     "text": [
      "   DEPARTAMENTO          MUNICIPIO CODIGO DANE                 ARMAS MEDIOS  \\\n",
      "0     ATLÁNTICO  Barranquilla (ct)     8001000  ARMA BLANCA / CORTOPUNZANTE   \n",
      "1        BOYACÁ            Duitama    15238000  ARMA BLANCA / CORTOPUNZANTE   \n",
      "2       CAQUETÁ        Puerto rico    18592000  ARMA BLANCA / CORTOPUNZANTE   \n",
      "3      CASANARE               Maní    85139000  ARMA BLANCA / CORTOPUNZANTE   \n",
      "4  CUNDINAMARCA   Bogotá d.c. (ct)    11001000  ARMA BLANCA / CORTOPUNZANTE   \n",
      "\n",
      "  FECHA HECHO       SEXO GRUPO ETARIO  CANTIDAD FECHA_ACTUAL  year  month  \\\n",
      "0   1/01/2010  MASCULINO      ADULTOS         1   2025-06-02  2025      6   \n",
      "1   1/01/2010   FEMENINO      ADULTOS         1   2025-06-02  2025      6   \n",
      "2   1/01/2010  MASCULINO      ADULTOS         1   2025-06-02  2025      6   \n",
      "3   1/01/2010   FEMENINO      ADULTOS         1   2025-06-02  2025      6   \n",
      "4   1/01/2010   FEMENINO      ADULTOS         1   2025-06-02  2025      6   \n",
      "\n",
      "   day year_month  \n",
      "0    2    2025-06  \n",
      "1    2    2025-06  \n",
      "2    2    2025-06  \n",
      "3    2    2025-06  \n",
      "4    2    2025-06  \n"
     ]
    }
   ],
   "source": [
    "df['FECHA_ACTUAL'] = pd.to_datetime(df['FECHA_ACTUAL'])\n",
    "df['year'] = df['FECHA_ACTUAL'].dt.year\n",
    "df['month'] = df['FECHA_ACTUAL'].dt.month\n",
    "df['day'] = df['FECHA_ACTUAL'].dt.day\n",
    "df['year_month'] = df['FECHA_ACTUAL'].dt.strftime('%Y-%m')\n",
    "print(df.head())"
   ]
  },
  {
   "cell_type": "markdown",
   "id": "846ebe24",
   "metadata": {},
   "source": [
    "8 cambiar formato de fecha de la columna FECHA HECHO , al formato [YYYY-MM-DD]"
   ]
  },
  {
   "cell_type": "code",
   "execution_count": 65,
   "id": "4ee6dd5f",
   "metadata": {},
   "outputs": [
    {
     "name": "stdout",
     "output_type": "stream",
     "text": [
      "   DEPARTAMENTO          MUNICIPIO CODIGO DANE                 ARMAS MEDIOS  \\\n",
      "0     ATLÁNTICO  Barranquilla (ct)     8001000  ARMA BLANCA / CORTOPUNZANTE   \n",
      "1        BOYACÁ            Duitama    15238000  ARMA BLANCA / CORTOPUNZANTE   \n",
      "2       CAQUETÁ        Puerto rico    18592000  ARMA BLANCA / CORTOPUNZANTE   \n",
      "3      CASANARE               Maní    85139000  ARMA BLANCA / CORTOPUNZANTE   \n",
      "4  CUNDINAMARCA   Bogotá d.c. (ct)    11001000  ARMA BLANCA / CORTOPUNZANTE   \n",
      "\n",
      "  FECHA HECHO       SEXO GRUPO ETARIO  CANTIDAD FECHA_ACTUAL  year  month  \\\n",
      "0  2010-01-01  MASCULINO      ADULTOS         1   2025-06-02  2025      6   \n",
      "1  2010-01-01   FEMENINO      ADULTOS         1   2025-06-02  2025      6   \n",
      "2  2010-01-01  MASCULINO      ADULTOS         1   2025-06-02  2025      6   \n",
      "3  2010-01-01   FEMENINO      ADULTOS         1   2025-06-02  2025      6   \n",
      "4  2010-01-01   FEMENINO      ADULTOS         1   2025-06-02  2025      6   \n",
      "\n",
      "   day year_month  \n",
      "0    2    2025-06  \n",
      "1    2    2025-06  \n",
      "2    2    2025-06  \n",
      "3    2    2025-06  \n",
      "4    2    2025-06  \n"
     ]
    }
   ],
   "source": [
    "import pandas as pd\n",
    "df['FECHA HECHO'] = pd.to_datetime(df['FECHA HECHO'], errors='coerce')\n",
    "df['FECHA HECHO'] = df['FECHA HECHO'].dt.strftime('%Y-%m-%d')\n",
    "print(df.head())"
   ]
  }
 ],
 "metadata": {
  "kernelspec": {
   "display_name": "Python 3",
   "language": "python",
   "name": "python3"
  },
  "language_info": {
   "codemirror_mode": {
    "name": "ipython",
    "version": 3
   },
   "file_extension": ".py",
   "mimetype": "text/x-python",
   "name": "python",
   "nbconvert_exporter": "python",
   "pygments_lexer": "ipython3",
   "version": "3.12.1"
  }
 },
 "nbformat": 4,
 "nbformat_minor": 5
}
