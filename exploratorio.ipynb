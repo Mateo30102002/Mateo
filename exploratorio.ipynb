{
 "cells": [
  {
   "cell_type": "markdown",
   "id": "b8d424d3",
   "metadata": {},
   "source": [
    "Importación librerias"
   ]
  },
  {
   "cell_type": "code",
   "execution_count": 2,
   "id": "405fbbf1",
   "metadata": {},
   "outputs": [],
   "source": [
    "import pandas as pd #dataframe"
   ]
  },
  {
   "cell_type": "code",
   "execution_count": null,
   "id": "011828f9",
   "metadata": {},
   "outputs": [
    {
     "name": "stdout",
     "output_type": "stream",
     "text": [
      "   DEPARTAMENTO          MUNICIPIO CODIGO DANE                 ARMAS MEDIOS  \\\n",
      "0     ATLÁNTICO  BARRANQUILLA (CT)     8001000  ARMA BLANCA / CORTOPUNZANTE   \n",
      "1        BOYACÁ            DUITAMA    15238000  ARMA BLANCA / CORTOPUNZANTE   \n",
      "2       CAQUETÁ        PUERTO RICO    18592000  ARMA BLANCA / CORTOPUNZANTE   \n",
      "3      CASANARE               MANÍ    85139000  ARMA BLANCA / CORTOPUNZANTE   \n",
      "4  CUNDINAMARCA   BOGOTÁ D.C. (CT)    11001000  ARMA BLANCA / CORTOPUNZANTE   \n",
      "\n",
      "  FECHA HECHO     GENERO GRUPO ETARIO  CANTIDAD  \n",
      "0   1/01/2010  MASCULINO      ADULTOS         1  \n",
      "1   1/01/2010   FEMENINO      ADULTOS         1  \n",
      "2   1/01/2010  MASCULINO      ADULTOS         1  \n",
      "3   1/01/2010   FEMENINO      ADULTOS         1  \n",
      "4   1/01/2010   FEMENINO      ADULTOS         1  \n"
     ]
    },
    {
     "name": "stderr",
     "output_type": "stream",
     "text": [
      "/tmp/ipykernel_21746/2770837201.py:1: DtypeWarning: Columns (2) have mixed types. Specify dtype option on import or set low_memory=False.\n",
      "  df = pd.read_csv(\"/workspaces/Mateo/src/vope_cdeo_ProyectoMateo/static/csv/Reporte_Delito_Violencia_Intrafamiliar_Polic_a_Nacional.csv\",delimiter=\",\")\n"
     ]
    }
   ],
   "source": [
    "df = pd.read_csv(\"/workspaces/Mateo/src/vope_cdeo_ProyectoMateo/static/csv/datos_vio.csv\",delimiter=\",\")\n",
    "print(df.head())"
   ]
  },
  {
   "cell_type": "code",
   "execution_count": null,
   "id": "b43cd7f7",
   "metadata": {},
   "outputs": [],
   "source": []
  }
 ],
 "metadata": {
  "kernelspec": {
   "display_name": "Python 3",
   "language": "python",
   "name": "python3"
  },
  "language_info": {
   "codemirror_mode": {
    "name": "ipython",
    "version": 3
   },
   "file_extension": ".py",
   "mimetype": "text/x-python",
   "name": "python",
   "nbconvert_exporter": "python",
   "pygments_lexer": "ipython3",
   "version": "3.12.1"
  }
 },
 "nbformat": 4,
 "nbformat_minor": 5
}
